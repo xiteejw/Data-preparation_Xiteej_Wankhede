{
 "cells": [
  {
   "cell_type": "markdown",
   "id": "ca61380f-bf4a-47d7-a70c-f9dca4be23e8",
   "metadata": {},
   "source": [
    "<h1>Data Preparation</h1>"
   ]
  },
  {
   "cell_type": "markdown",
   "id": "8f74cb2b-5c5f-43e2-b8d7-4c4c8cc819a6",
   "metadata": {},
   "source": [
    "<h2>Objective</h2>\n",
    "The objective of this notebook is to prepare the online retail dataset for clustering analysis. The steps include loading, exploring, cleaning, engineering features, transforming the data, and finally saving the cleaned dataset. This data preparation pipeline will help identify customer segments using unsupervised learning techniques like K-means clustering."
   ]
  },
  {
   "cell_type": "code",
   "execution_count": 10,
   "id": "769a41eb-9c69-4d63-99eb-7444a6645ea8",
   "metadata": {},
   "outputs": [],
   "source": [
    "import numpy as np\n",
    "import pandas as pd"
   ]
  },
  {
   "cell_type": "markdown",
   "id": "1d6293fe-fcd1-44cd-bec6-5de0e37e3f33",
   "metadata": {},
   "source": [
    "<h3>1. Loading Data</h3>"
   ]
  },
  {
   "cell_type": "code",
   "execution_count": 11,
   "id": "75ec51ed-c0a8-4348-ac2b-1ac9d12e1870",
   "metadata": {},
   "outputs": [
    {
     "data": {
      "text/html": [
       "<div>\n",
       "<style scoped>\n",
       "    .dataframe tbody tr th:only-of-type {\n",
       "        vertical-align: middle;\n",
       "    }\n",
       "\n",
       "    .dataframe tbody tr th {\n",
       "        vertical-align: top;\n",
       "    }\n",
       "\n",
       "    .dataframe thead th {\n",
       "        text-align: right;\n",
       "    }\n",
       "</style>\n",
       "<table border=\"1\" class=\"dataframe\">\n",
       "  <thead>\n",
       "    <tr style=\"text-align: right;\">\n",
       "      <th></th>\n",
       "      <th>InvoiceNo</th>\n",
       "      <th>StockCode</th>\n",
       "      <th>Description</th>\n",
       "      <th>Quantity</th>\n",
       "      <th>InvoiceDate</th>\n",
       "      <th>UnitPrice</th>\n",
       "      <th>CustomerID</th>\n",
       "      <th>Country</th>\n",
       "    </tr>\n",
       "  </thead>\n",
       "  <tbody>\n",
       "    <tr>\n",
       "      <th>0</th>\n",
       "      <td>536365</td>\n",
       "      <td>85123A</td>\n",
       "      <td>WHITE HANGING HEART T-LIGHT HOLDER</td>\n",
       "      <td>6</td>\n",
       "      <td>2010-12-01 08:26:00</td>\n",
       "      <td>2.55</td>\n",
       "      <td>17850.0</td>\n",
       "      <td>United Kingdom</td>\n",
       "    </tr>\n",
       "    <tr>\n",
       "      <th>1</th>\n",
       "      <td>536365</td>\n",
       "      <td>71053</td>\n",
       "      <td>WHITE METAL LANTERN</td>\n",
       "      <td>6</td>\n",
       "      <td>2010-12-01 08:26:00</td>\n",
       "      <td>3.39</td>\n",
       "      <td>17850.0</td>\n",
       "      <td>United Kingdom</td>\n",
       "    </tr>\n",
       "    <tr>\n",
       "      <th>2</th>\n",
       "      <td>536365</td>\n",
       "      <td>84406B</td>\n",
       "      <td>CREAM CUPID HEARTS COAT HANGER</td>\n",
       "      <td>8</td>\n",
       "      <td>2010-12-01 08:26:00</td>\n",
       "      <td>2.75</td>\n",
       "      <td>17850.0</td>\n",
       "      <td>United Kingdom</td>\n",
       "    </tr>\n",
       "    <tr>\n",
       "      <th>3</th>\n",
       "      <td>536365</td>\n",
       "      <td>84029G</td>\n",
       "      <td>KNITTED UNION FLAG HOT WATER BOTTLE</td>\n",
       "      <td>6</td>\n",
       "      <td>2010-12-01 08:26:00</td>\n",
       "      <td>3.39</td>\n",
       "      <td>17850.0</td>\n",
       "      <td>United Kingdom</td>\n",
       "    </tr>\n",
       "    <tr>\n",
       "      <th>4</th>\n",
       "      <td>536365</td>\n",
       "      <td>84029E</td>\n",
       "      <td>RED WOOLLY HOTTIE WHITE HEART.</td>\n",
       "      <td>6</td>\n",
       "      <td>2010-12-01 08:26:00</td>\n",
       "      <td>3.39</td>\n",
       "      <td>17850.0</td>\n",
       "      <td>United Kingdom</td>\n",
       "    </tr>\n",
       "  </tbody>\n",
       "</table>\n",
       "</div>"
      ],
      "text/plain": [
       "  InvoiceNo StockCode                          Description  Quantity  \\\n",
       "0    536365    85123A   WHITE HANGING HEART T-LIGHT HOLDER         6   \n",
       "1    536365     71053                  WHITE METAL LANTERN         6   \n",
       "2    536365    84406B       CREAM CUPID HEARTS COAT HANGER         8   \n",
       "3    536365    84029G  KNITTED UNION FLAG HOT WATER BOTTLE         6   \n",
       "4    536365    84029E       RED WOOLLY HOTTIE WHITE HEART.         6   \n",
       "\n",
       "          InvoiceDate  UnitPrice  CustomerID         Country  \n",
       "0 2010-12-01 08:26:00       2.55     17850.0  United Kingdom  \n",
       "1 2010-12-01 08:26:00       3.39     17850.0  United Kingdom  \n",
       "2 2010-12-01 08:26:00       2.75     17850.0  United Kingdom  \n",
       "3 2010-12-01 08:26:00       3.39     17850.0  United Kingdom  \n",
       "4 2010-12-01 08:26:00       3.39     17850.0  United Kingdom  "
      ]
     },
     "execution_count": 11,
     "metadata": {},
     "output_type": "execute_result"
    }
   ],
   "source": [
    "excel_path = r\"C:\\Users\\Admin\\project\\Online Retail.xlsx\"\n",
    "dataset = pd.read_excel(excel_path)\n",
    "dataset.head()"
   ]
  },
  {
   "cell_type": "markdown",
   "id": "da77736b-4edb-4342-81bd-0f3dbf473758",
   "metadata": {},
   "source": [
    "<h3>2. Exploring Data</h3>"
   ]
  },
  {
   "cell_type": "code",
   "execution_count": 12,
   "id": "89fa3f72-cf4a-4662-8434-95e9ae7797c9",
   "metadata": {},
   "outputs": [
    {
     "name": "stdout",
     "output_type": "stream",
     "text": [
      "<class 'pandas.core.frame.DataFrame'>\n",
      "RangeIndex: 541909 entries, 0 to 541908\n",
      "Data columns (total 8 columns):\n",
      " #   Column       Non-Null Count   Dtype         \n",
      "---  ------       --------------   -----         \n",
      " 0   InvoiceNo    541909 non-null  object        \n",
      " 1   StockCode    541909 non-null  object        \n",
      " 2   Description  540455 non-null  object        \n",
      " 3   Quantity     541909 non-null  int64         \n",
      " 4   InvoiceDate  541909 non-null  datetime64[ns]\n",
      " 5   UnitPrice    541909 non-null  float64       \n",
      " 6   CustomerID   406829 non-null  float64       \n",
      " 7   Country      541909 non-null  object        \n",
      "dtypes: datetime64[ns](1), float64(2), int64(1), object(4)\n",
      "memory usage: 33.1+ MB\n",
      "None\n"
     ]
    }
   ],
   "source": [
    "print(dataset.info())"
   ]
  },
  {
   "cell_type": "code",
   "execution_count": 14,
   "id": "d2405f2d-32d5-4b0b-b174-f2bb73034d55",
   "metadata": {},
   "outputs": [
    {
     "name": "stdout",
     "output_type": "stream",
     "text": [
      "            Quantity                    InvoiceDate      UnitPrice  \\\n",
      "count  541909.000000                         541909  541909.000000   \n",
      "mean        9.552250  2011-07-04 13:34:57.156386048       4.611114   \n",
      "min    -80995.000000            2010-12-01 08:26:00  -11062.060000   \n",
      "25%         1.000000            2011-03-28 11:34:00       1.250000   \n",
      "50%         3.000000            2011-07-19 17:17:00       2.080000   \n",
      "75%        10.000000            2011-10-19 11:27:00       4.130000   \n",
      "max     80995.000000            2011-12-09 12:50:00   38970.000000   \n",
      "std       218.081158                            NaN      96.759853   \n",
      "\n",
      "          CustomerID  \n",
      "count  406829.000000  \n",
      "mean    15287.690570  \n",
      "min     12346.000000  \n",
      "25%     13953.000000  \n",
      "50%     15152.000000  \n",
      "75%     16791.000000  \n",
      "max     18287.000000  \n",
      "std      1713.600303  \n"
     ]
    }
   ],
   "source": [
    "# Statistical summary (for numerical columns)\n",
    "print(dataset.describe())"
   ]
  },
  {
   "cell_type": "code",
   "execution_count": 15,
   "id": "cf98d448-077b-42c7-8237-5b741fcade3a",
   "metadata": {},
   "outputs": [
    {
     "name": "stdout",
     "output_type": "stream",
     "text": [
      "InvoiceNo           0\n",
      "StockCode           0\n",
      "Description      1454\n",
      "Quantity            0\n",
      "InvoiceDate         0\n",
      "UnitPrice           0\n",
      "CustomerID     135080\n",
      "Country             0\n",
      "dtype: int64\n"
     ]
    }
   ],
   "source": [
    "print(dataset.isna().sum())"
   ]
  },
  {
   "cell_type": "markdown",
   "id": "51cb86a1-887e-4b2c-b741-53027016ae5e",
   "metadata": {},
   "source": [
    "<h3>3. Cleaning Data</h3>"
   ]
  },
  {
   "cell_type": "code",
   "execution_count": 16,
   "id": "a0dde05f-1753-4556-889f-f3018c129407",
   "metadata": {},
   "outputs": [
    {
     "name": "stdout",
     "output_type": "stream",
     "text": [
      "InvoiceNo           0\n",
      "StockCode           0\n",
      "Description         0\n",
      "Quantity            0\n",
      "InvoiceDate         0\n",
      "UnitPrice           0\n",
      "CustomerID     133626\n",
      "Country             0\n",
      "dtype: int64\n"
     ]
    }
   ],
   "source": [
    "filtered_data = dataset.dropna(subset=['Description']).copy()\n",
    "print(filtered_data.isna().sum())"
   ]
  },
  {
   "cell_type": "code",
   "execution_count": 19,
   "id": "e118a247-8f40-4cc9-827b-55579849b364",
   "metadata": {},
   "outputs": [],
   "source": [
    "# Fill missing CustomerID with 'Unknown'\n",
    "filtered_data['CustomerID'] = filtered_data['CustomerID'].fillna('Unknown')"
   ]
  },
  {
   "cell_type": "code",
   "execution_count": 20,
   "id": "11021a70-cf2d-4d71-9c64-d325e8c31bdf",
   "metadata": {},
   "outputs": [
    {
     "name": "stdout",
     "output_type": "stream",
     "text": [
      "Rows left after eliminating duplicates: 535187\n"
     ]
    }
   ],
   "source": [
    "# Drop duplicate records from the dataset\n",
    "filtered_data = filtered_data.drop_duplicates()\n",
    "\n",
    "print(f\"Rows left after eliminating duplicates: {filtered_data.shape[0]}\")\n"
   ]
  },
  {
   "cell_type": "code",
   "execution_count": 21,
   "id": "383d4a23-c02a-455d-81b5-3d97ef20376a",
   "metadata": {},
   "outputs": [
    {
     "name": "stdout",
     "output_type": "stream",
     "text": [
      "InvoiceNo              object\n",
      "StockCode              object\n",
      "Description            object\n",
      "Quantity                int64\n",
      "InvoiceDate    datetime64[ns]\n",
      "UnitPrice             float64\n",
      "CustomerID             object\n",
      "Country                object\n",
      "dtype: object\n"
     ]
    }
   ],
   "source": [
    "# Convert InvoiceDate to datetime format\n",
    "filtered_data['InvoiceDate'] = pd.to_datetime(filtered_data['InvoiceDate'])\n",
    "\n",
    "# Cast CustomerID to string type\n",
    "filtered_data['CustomerID'] = filtered_data['CustomerID'].astype(str)\n",
    "\n",
    "print(filtered_data.dtypes)"
   ]
  },
  {
   "cell_type": "markdown",
   "id": "59d9c989-45ae-4935-b90b-fb2ab0c54685",
   "metadata": {},
   "source": [
    "<h3>4. Feature Engineering</h3>"
   ]
  },
  {
   "cell_type": "code",
   "execution_count": 22,
   "id": "cf8f5dc5-20ec-4dff-a069-159e5326d07a",
   "metadata": {},
   "outputs": [
    {
     "name": "stdout",
     "output_type": "stream",
     "text": [
      "   Quantity  Quantity_scaled  UnitPrice  UnitPrice_scaled\n",
      "0         6        -0.016761       2.55         -0.021520\n",
      "1         6        -0.016761       3.39         -0.012892\n",
      "2         8        -0.007631       2.75         -0.019465\n",
      "3         6        -0.016761       3.39         -0.012892\n",
      "4         6        -0.016761       3.39         -0.012892\n"
     ]
    }
   ],
   "source": [
    "from sklearn.preprocessing import StandardScaler\n",
    "\n",
    "scaler = StandardScaler()\n",
    "\n",
    "# Scale numerical features 'Quantity' and 'UnitPrice'\n",
    "filtered_data[['Quantity_scaled', 'UnitPrice_scaled']] = scaler.fit_transform(filtered_data[['Quantity', 'UnitPrice']])\n",
    "\n",
    "print(filtered_data[['Quantity', 'Quantity_scaled', 'UnitPrice', 'UnitPrice_scaled']].head())\n"
   ]
  },
  {
   "cell_type": "code",
   "execution_count": 23,
   "id": "0a33cd9a-e77f-4e81-a563-201f6c9b4e0d",
   "metadata": {},
   "outputs": [
    {
     "name": "stdout",
     "output_type": "stream",
     "text": [
      "Data shape after encoding: (535187, 46)\n"
     ]
    }
   ],
   "source": [
    "# Apply one-hot encoding to 'Country', avoiding multicollinearity\n",
    "encoded_data = pd.get_dummies(filtered_data, columns=['Country'], drop_first=True)\n",
    "\n",
    "print(f\"Data shape after encoding: {encoded_data.shape}\")"
   ]
  },
  {
   "cell_type": "code",
   "execution_count": 24,
   "id": "6894d3cf-5fdb-4098-981a-bb418c872161",
   "metadata": {},
   "outputs": [
    {
     "name": "stdout",
     "output_type": "stream",
     "text": [
      "   Quantity  UnitPrice  TotalAmount\n",
      "0         6       2.55        15.30\n",
      "1         6       3.39        20.34\n",
      "2         8       2.75        22.00\n",
      "3         6       3.39        20.34\n",
      "4         6       3.39        20.34\n"
     ]
    }
   ],
   "source": [
    "# Generate 'TotalAmount' by multiplying quantity with unit price\n",
    "encoded_data['TotalAmount'] = encoded_data['Quantity'] * encoded_data['UnitPrice']\n",
    "\n",
    "print(encoded_data[['Quantity', 'UnitPrice', 'TotalAmount']].head())"
   ]
  },
  {
   "cell_type": "code",
   "execution_count": 25,
   "id": "d2b27c93-7579-4c2a-8b47-181b7416ecd2",
   "metadata": {},
   "outputs": [
    {
     "name": "stdout",
     "output_type": "stream",
     "text": [
      "          InvoiceDate YearMonth\n",
      "0 2010-12-01 08:26:00   2010-12\n",
      "1 2010-12-01 08:26:00   2010-12\n",
      "2 2010-12-01 08:26:00   2010-12\n",
      "3 2010-12-01 08:26:00   2010-12\n",
      "4 2010-12-01 08:26:00   2010-12\n"
     ]
    }
   ],
   "source": [
    "# Create YearMonth period from InvoiceDate for temporal analysis\n",
    "encoded_data['YearMonth'] = encoded_data['InvoiceDate'].dt.to_period('M')\n",
    "\n",
    "print(encoded_data[['InvoiceDate', 'YearMonth']].head())\n"
   ]
  },
  {
   "cell_type": "code",
   "execution_count": 26,
   "id": "38ea7515-9d86-4e81-a7b9-fc768edd41d2",
   "metadata": {},
   "outputs": [
    {
     "name": "stdout",
     "output_type": "stream",
     "text": [
      "          InvoiceDate  InvoiceHour\n",
      "0 2010-12-01 08:26:00            8\n",
      "1 2010-12-01 08:26:00            8\n",
      "2 2010-12-01 08:26:00            8\n",
      "3 2010-12-01 08:26:00            8\n",
      "4 2010-12-01 08:26:00            8\n"
     ]
    }
   ],
   "source": [
    "# Extract hour component from InvoiceDate\n",
    "encoded_data['InvoiceHour'] = encoded_data['InvoiceDate'].dt.hour\n",
    "\n",
    "print(encoded_data[['InvoiceDate', 'InvoiceHour']].head())\n"
   ]
  },
  {
   "cell_type": "code",
   "execution_count": 27,
   "id": "8c5b9bb1-2d74-4a23-9645-16e78ff69240",
   "metadata": {},
   "outputs": [
    {
     "name": "stdout",
     "output_type": "stream",
     "text": [
      "TotalAmount                     1.000000\n",
      "Quantity                        0.888196\n",
      "Quantity_scaled                 0.888196\n",
      "Country_Netherlands             0.017831\n",
      "Country_Japan                   0.005467\n",
      "Country_Sweden                  0.004713\n",
      "Country_EIRE                    0.004565\n",
      "Country_Denmark                 0.002128\n",
      "Country_Germany                 0.001829\n",
      "Country_Norway                  0.001681\n",
      "Country_France                  0.001647\n",
      "Country_Switzerland             0.001619\n",
      "Country_Finland                 0.001320\n",
      "Country_Singapore               0.001175\n",
      "Country_Hong Kong               0.001010\n",
      "Country_Channel Islands         0.000824\n",
      "Country_Spain                   0.000630\n",
      "Country_Lithuania               0.000621\n",
      "Country_Greece                  0.000611\n",
      "Country_Israel                  0.000535\n",
      "Country_Austria                 0.000514\n",
      "Country_Lebanon                 0.000468\n",
      "Country_Brazil                  0.000356\n",
      "Country_Italy                   0.000291\n",
      "Country_United Arab Emirates    0.000290\n",
      "Country_Canada                  0.000269\n",
      "Country_Iceland                 0.000267\n",
      "Country_Belgium                 0.000262\n",
      "Country_Cyprus                  0.000255\n",
      "Country_Poland                  0.000197\n",
      "Country_Portugal                0.000172\n",
      "Country_Bahrain                 0.000167\n",
      "Country_Czech Republic          0.000106\n",
      "Country_European Community      0.000084\n",
      "Country_Malta                   0.000063\n",
      "Country_RSA                    -0.000024\n",
      "Country_Saudi Arabia           -0.000057\n",
      "Country_Unspecified            -0.000562\n",
      "Country_USA                    -0.000748\n",
      "InvoiceHour                    -0.009120\n",
      "Country_United Kingdom         -0.012493\n",
      "UnitPrice                      -0.162050\n",
      "UnitPrice_scaled               -0.162050\n",
      "Name: TotalAmount, dtype: float64\n"
     ]
    }
   ],
   "source": [
    "# Calculate correlation matrix for numerical features\n",
    "correlation_matrix = encoded_data.corr(numeric_only=True)\n",
    "\n",
    "# Display correlations with TotalAmount\n",
    "print(correlation_matrix['TotalAmount'].sort_values(ascending=False))\n"
   ]
  },
  {
   "cell_type": "code",
   "execution_count": 28,
   "id": "d2e5c869-957d-4bdc-867c-74fd9791b6f9",
   "metadata": {},
   "outputs": [],
   "source": [
    "# Save the cleaned dataset to a CSV file\n",
    "filtered_data.to_csv(\"cleaned_retail_data.csv\", index=False)\n"
   ]
  },
  {
   "cell_type": "markdown",
   "id": "3502b0dc-5871-44f1-817c-f9e95f424e9f",
   "metadata": {},
   "source": [
    "<h3>Conclusion</h3>\n",
    "\n",
    "This notebook focused on thorough preprocessing of the online retail dataset. Key steps covered importing the data, exploring its structure, handling missing values, creating new features, and applying scaling transformations. The refined dataset is now well-prepared for subsequent clustering tasks.\n",
    "\n",
    "With this foundation, the upcoming analysis aims to discover distinct customer groups, enabling the business to enhance marketing efforts and deliver more personalized experiences."
   ]
  },
  {
   "cell_type": "code",
   "execution_count": null,
   "id": "a2a72c34-2153-4156-bdcb-68032e4d5311",
   "metadata": {},
   "outputs": [],
   "source": []
  }
 ],
 "metadata": {
  "kernelspec": {
   "display_name": "Python 3 (ipykernel)",
   "language": "python",
   "name": "python3"
  },
  "language_info": {
   "codemirror_mode": {
    "name": "ipython",
    "version": 3
   },
   "file_extension": ".py",
   "mimetype": "text/x-python",
   "name": "python",
   "nbconvert_exporter": "python",
   "pygments_lexer": "ipython3",
   "version": "3.12.4"
  }
 },
 "nbformat": 4,
 "nbformat_minor": 5
}
